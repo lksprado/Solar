{
 "cells": [
  {
   "cell_type": "code",
   "execution_count": 4,
   "metadata": {},
   "outputs": [],
   "source": [
    "from selenium import webdriver\n",
    "from selenium.webdriver.chrome.options import Options\n",
    "from selenium.webdriver.common.keys import Keys\n",
    "from selenium.webdriver.common.by import By\n",
    "from selenium.webdriver.support.ui import WebDriverWait\n",
    "from selenium.webdriver.support import expected_conditions as EC\n",
    "from selenium.common.exceptions import TimeoutException, NoSuchElementException\n",
    "from selenium.webdriver.common.desired_capabilities import DesiredCapabilities\n",
    "from selenium.webdriver.chrome.service import Service\n",
    "import requests\n",
    "import os\n",
    "import config\n",
    "import logging\n",
    "import time\n",
    "import datetime\n",
    "import json\n",
    "import random"
   ]
  },
  {
   "cell_type": "code",
   "execution_count": 5,
   "metadata": {},
   "outputs": [
    {
     "name": "stderr",
     "output_type": "stream",
     "text": [
      "The chromedriver version (122.0.6261.111) detected in PATH at C:\\Users\\lks-p\\chromedriver_win64\\chromedriver.exe might not be compatible with the detected chrome version (123.0.6312.60); currently, chromedriver 123.0.6312.86 is recommended for chrome 123.*, so it is advised to delete the driver in PATH and retry\n"
     ]
    }
   ],
   "source": [
    "# LOGIN STEP\n",
    "try:\n",
    "    # CREATE WEBDRIVER INSTANCE FOR GOOGLE CHROME\n",
    "    chrome_options = Options()\n",
    "    chrome_options.add_argument('--headless')\n",
    "    chrome_options.add_argument('--disable-gpu')\n",
    "    chrome_options.add_argument(\"--remote-debugging-port=9222\")\n",
    "    driver = webdriver.Chrome(options=chrome_options)\n",
    "    # OPEN WEBSITE\n",
    "    driver.get('https://apsystemsema.com/ema/index.action')\n",
    "    # GET CREDENTIALS FROM CONFIG FILE\n",
    "    username = config.username\n",
    "    password = config.password\n",
    "    # WAITS FOR [USERNAME] FIELD ELEMENT TO BE CLICKABLE\n",
    "    username_field = WebDriverWait(driver, 5).until(\n",
    "        EC.element_to_be_clickable((By.ID, 'username'))\n",
    "    )\n",
    "    # WAITS FOR [PASSWORD] FIELD ELEMENT TO BE CLICKABLE\n",
    "    password_field = WebDriverWait(driver, 5).until(\n",
    "        EC.element_to_be_clickable((By.ID, 'password'))\n",
    "    )\n",
    "    # TYPES THE[USERNAME] AND PASSWORDS FIELDS\n",
    "    username_field.send_keys(username)\n",
    "    password_field.send_keys(password)\n",
    "    # WAITS FOR [LOGIN] FIELD ELEMENT TO BE CLICKABLE\n",
    "    login_button = WebDriverWait(driver, 5).until(\n",
    "        EC.element_to_be_clickable((By.ID, 'Login'))\n",
    "    )\n",
    "    # CLICKS ELEMENT TO LOGIN WAITS 3 SECONDS WHILE LOADNG\n",
    "    login_button.click()\n",
    "    time.sleep(3)\n",
    "except Exception as e:\n",
    "    logging.error(\"An unexpected error occurred: %s\", str(e))\n",
    "except TimeoutException as e:\n",
    "    logging.error(\"Timeout occurred while waiting for an element to be clickable: %s\", str(e))\n",
    "except Exception as e:\n",
    "    logging.error(\"An unexpected error occurred: %s\", str(e))"
   ]
  },
  {
   "cell_type": "code",
   "execution_count": null,
   "metadata": {},
   "outputs": [],
   "source": [
    "# FETCH DAILY HOURLY PRODUCTION\n",
    "driver.get('https://apsystemsema.com/ema/security/optmainmenu/intoLargeReport.action')\n",
    "time.sleep(random.randint(1, 5)) # RANDOM REQUEST TIME WINDOW TO NOT RAISE SUSPICIOUS ACTIVITY IN SERVER SIDE\n",
    "current_date = datetime.date(2021, 12, 31)\n",
    "end_date = datetime.date(2021, 9, 16)\n",
    "while current_date >= end_date:\n",
    "    cookies = driver.get_cookies()\n",
    "    headers = {\n",
    "    'Cookie': '; '.join([f\"{cookie['name']}={cookie['value']}\" for cookie in cookies]),\n",
    "    'User-Agent': 'Mozilla/5.0 (Windows NT 10.0; Win64; x64) AppleWebKit/537.36 (KHTML, like Gecko) Chrome/122.0.0.0 Safari/537.36'\n",
    "    }\n",
    "    url = \"https://apsystemsema.com/ema/ajax/getReportApiAjax/getHourlyEnergyOnCurrentDayAjax\"\n",
    "    \n",
    "    user_id = None\n",
    "    for cookie in cookies:\n",
    "        if cookie['name'] == 'userId':\n",
    "            user_id = cookie['value']\n",
    "\n",
    "    payload = {\n",
    "        'selectedValue': '216200001531',\n",
    "        'queryDate': current_date.strftime('%Y%m%d'),\n",
    "        'systemId': user_id,\n",
    "        'userId': user_id\n",
    "    }\n",
    "    # SENT POST REQUEST\n",
    "    response = requests.post(url, headers=headers, data=payload)\n",
    "    # GET CURRENT TIME\n",
    "    current_time = time.time()\n",
    "    # #CONVERT CURRENT DATETIME\n",
    "    current_date2 = current_date.strftime('%Y-%m-%d')\n",
    "    # #DEFINE OUT PUT FILE LOCATION AND VARIABLE NAME\n",
    "    output_file = os.path.join(config.jsondir, f\"hourly24_production_{current_date2}.json\")\n",
    "    #SAVE JSON FILE\n",
    "    with open(output_file, \"w\") as f:\n",
    "        json.dump(response.json(), f)\n",
    "    current_date -= datetime.timedelta(days=1)\n",
    "    time.sleep(random.randint(2, 10))\n",
    "driver.quit()"
   ]
  }
 ],
 "metadata": {
  "kernelspec": {
   "display_name": ".venv",
   "language": "python",
   "name": "python3"
  },
  "language_info": {
   "codemirror_mode": {
    "name": "ipython",
    "version": 3
   },
   "file_extension": ".py",
   "mimetype": "text/x-python",
   "name": "python",
   "nbconvert_exporter": "python",
   "pygments_lexer": "ipython3",
   "version": "3.12.1"
  }
 },
 "nbformat": 4,
 "nbformat_minor": 2
}
